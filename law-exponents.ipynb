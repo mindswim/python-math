{
 "cells": [
  {
   "cell_type": "code",
   "execution_count": 15,
   "id": "9332d7fb-72d2-4a1b-83de-1661b9185798",
   "metadata": {},
   "outputs": [
    {
     "data": {
      "text/plain": [
       "'if you have the same base, you can multiply exponents by adding the powers'"
      ]
     },
     "execution_count": 15,
     "metadata": {},
     "output_type": "execute_result"
    }
   ],
   "source": [
    "# law of exponents\n",
    "\n",
    "\"\"\"if you have the same base, you can multiply exponents by adding the powers\"\"\""
   ]
  },
  {
   "cell_type": "code",
   "execution_count": 20,
   "id": "9487e310-77ce-4acf-9fd0-6ebf601d2998",
   "metadata": {},
   "outputs": [],
   "source": [
    "from IPython.display import display,Math"
   ]
  },
  {
   "cell_type": "code",
   "execution_count": 11,
   "id": "c28bd933-0247-4157-b609-9bfade437f1f",
   "metadata": {},
   "outputs": [
    {
     "data": {
      "text/plain": [
       "9"
      ]
     },
     "execution_count": 11,
     "metadata": {},
     "output_type": "execute_result"
    }
   ],
   "source": [
    "3**2"
   ]
  },
  {
   "cell_type": "code",
   "execution_count": 13,
   "id": "9002fd59-b576-4189-9856-ec0a373c2c4e",
   "metadata": {},
   "outputs": [
    {
     "data": {
      "text/plain": [
       "27"
      ]
     },
     "execution_count": 13,
     "metadata": {},
     "output_type": "execute_result"
    }
   ],
   "source": [
    "3**3"
   ]
  },
  {
   "cell_type": "code",
   "execution_count": 17,
   "id": "a6bedfbc-d603-4077-81a4-628df92cbdce",
   "metadata": {},
   "outputs": [
    {
     "name": "stdout",
     "output_type": "stream",
     "text": [
      "729\n",
      "729\n"
     ]
    }
   ],
   "source": [
    "print(3**2*3**4)\n",
    "print(3**(2+4))"
   ]
  },
  {
   "cell_type": "code",
   "execution_count": 18,
   "id": "994fb797-f6d5-4955-aae2-1be0c6c25fbf",
   "metadata": {},
   "outputs": [
    {
     "data": {
      "text/plain": [
       "2.0"
      ]
     },
     "execution_count": 18,
     "metadata": {},
     "output_type": "execute_result"
    }
   ],
   "source": [
    "4**(1/2)"
   ]
  },
  {
   "cell_type": "code",
   "execution_count": 22,
   "id": "102c2acd-e203-4cbf-831b-d4dfa65e87d4",
   "metadata": {},
   "outputs": [
    {
     "data": {
      "text/latex": [
       "$\\displaystyle 3^2\\times 3^4 = 3^{2+4}$"
      ],
      "text/plain": [
       "<IPython.core.display.Math object>"
      ]
     },
     "metadata": {},
     "output_type": "display_data"
    }
   ],
   "source": [
    "display(Math('3^2\\\\times 3^4 = 3^{2+4}'))"
   ]
  },
  {
   "cell_type": "code",
   "execution_count": 23,
   "id": "8eb4d977-00f2-4693-8cdc-2968dd25c833",
   "metadata": {},
   "outputs": [],
   "source": [
    "x = 5\n",
    "y = 5+1\n",
    "\n",
    "ans = "
   ]
  },
  {
   "cell_type": "code",
   "execution_count": 28,
   "id": "7f3dd5e4-5ded-415f-a2a3-5c5015cb6f81",
   "metadata": {},
   "outputs": [
    {
     "data": {
      "text/latex": [
       "$\\displaystyle x^{3/4}\\times 4^y = 3933.09$"
      ],
      "text/plain": [
       "<IPython.core.display.Math object>"
      ]
     },
     "metadata": {},
     "output_type": "display_data"
    }
   ],
   "source": [
    "display(Math('x^{3/4}\\\\times 4^y = 3933.09'))"
   ]
  },
  {
   "cell_type": "code",
   "execution_count": 33,
   "id": "4a24efa6-26c8-41d8-9d20-60bc46e7f2be",
   "metadata": {},
   "outputs": [
    {
     "data": {
      "text/latex": [
       "$\\displaystyle \\frac{3^3}{x^y}= 0.00735558$"
      ],
      "text/plain": [
       "<IPython.core.display.Math object>"
      ]
     },
     "metadata": {},
     "output_type": "display_data"
    }
   ],
   "source": [
    "display(Math('\\\\frac{3^3}{x^y}= 0.00735558'))"
   ]
  },
  {
   "cell_type": "code",
   "execution_count": 34,
   "id": "37893034-352b-494b-a32b-7acb2d5f733f",
   "metadata": {},
   "outputs": [
    {
     "data": {
      "text/latex": [
       "$\\displaystyle 10^{x-4} = 10$"
      ],
      "text/plain": [
       "<IPython.core.display.Math object>"
      ]
     },
     "metadata": {},
     "output_type": "display_data"
    }
   ],
   "source": [
    "display(Math('10^{x-4} = 10'))"
   ]
  },
  {
   "cell_type": "code",
   "execution_count": null,
   "id": "746df768-d217-4bf7-adb3-cba76043c86d",
   "metadata": {},
   "outputs": [],
   "source": []
  }
 ],
 "metadata": {
  "kernelspec": {
   "display_name": "Python 3 (ipykernel)",
   "language": "python",
   "name": "python3"
  },
  "language_info": {
   "codemirror_mode": {
    "name": "ipython",
    "version": 3
   },
   "file_extension": ".py",
   "mimetype": "text/x-python",
   "name": "python",
   "nbconvert_exporter": "python",
   "pygments_lexer": "ipython3",
   "version": "3.11.7"
  }
 },
 "nbformat": 4,
 "nbformat_minor": 5
}
