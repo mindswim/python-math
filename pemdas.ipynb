{
 "cells": [
  {
   "cell_type": "code",
   "execution_count": 5,
   "id": "c5615814-6317-43c7-9647-e4ff6b23242d",
   "metadata": {},
   "outputs": [
    {
     "name": "stdout",
     "output_type": "stream",
     "text": [
      "9\n"
     ]
    }
   ],
   "source": [
    "print(4 + 3 * 2 -  1)"
   ]
  },
  {
   "cell_type": "code",
   "execution_count": 9,
   "id": "435e1d77-044f-4246-890e-de118ddfcc24",
   "metadata": {},
   "outputs": [
    {
     "data": {
      "text/plain": [
       "2.0"
      ]
     },
     "execution_count": 9,
     "metadata": {},
     "output_type": "execute_result"
    }
   ],
   "source": [
    "(4*5)/(7+3)"
   ]
  },
  {
   "cell_type": "code",
   "execution_count": 16,
   "id": "1edea5f9-cbca-4e7d-bb4d-42352ed6fd6e",
   "metadata": {},
   "outputs": [
    {
     "data": {
      "text/plain": [
       "0.0"
      ]
     },
     "execution_count": 16,
     "metadata": {},
     "output_type": "execute_result"
    }
   ],
   "source": [
    "9/(3+6)-1"
   ]
  },
  {
   "cell_type": "code",
   "execution_count": null,
   "id": "92273e46-7e4d-425d-b58f-4e2648f09b2c",
   "metadata": {},
   "outputs": [],
   "source": []
  }
 ],
 "metadata": {
  "kernelspec": {
   "display_name": "Python 3 (ipykernel)",
   "language": "python",
   "name": "python3"
  },
  "language_info": {
   "codemirror_mode": {
    "name": "ipython",
    "version": 3
   },
   "file_extension": ".py",
   "mimetype": "text/x-python",
   "name": "python",
   "nbconvert_exporter": "python",
   "pygments_lexer": "ipython3",
   "version": "3.11.7"
  }
 },
 "nbformat": 4,
 "nbformat_minor": 5
}
